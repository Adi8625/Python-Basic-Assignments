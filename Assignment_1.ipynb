{
  "nbformat": 4,
  "nbformat_minor": 0,
  "metadata": {
    "colab": {
      "name": "Assignment_1.ipynb",
      "provenance": []
    },
    "kernelspec": {
      "name": "python3",
      "display_name": "Python 3"
    },
    "language_info": {
      "name": "python"
    }
  },
  "cells": [
    {
      "cell_type": "markdown",
      "source": [
        "Que 1. Ans: Expression: * , - , / , +. values: 'hello', -87.8, 6\n",
        "\n",
        "Que 2. Ans: String is a collection of the characters, it is a data type. On the other hand variable is a memory location to store a data. String can be stored in a variable, variable cant be stored in string.\n",
        "\n",
        "Que 3. Ans: Int: integer it is refferd to numeric integer values eg. 1,2,3,44 etc Str: String its reffers to collection of characters alfabetical or alfanumeric, eg. 'Adi' 'T99' etc. Dict: Dictionary it reffers to the Key and value pairs eg {1 : \"Adi\", 2: \"Sam\"} ect.\n",
        "\n",
        "Que 4. Ans: Experessions are made of operand ( numerical, strings etc) and operations (* , +, - ) etc. According to the program expersions perform the specific operatopn on an operand to generate the result.\n",
        "\n",
        "Que 5. Ans: An expression evaluates to a single value. A statement does not.\n",
        "\n",
        "Que 6. Ans: It does nothing as assignment operation not used.\n",
        "\n",
        "Que 7. Ans: Both the expression have same value. \"spamspamspam\"\n",
        "\n",
        "Que 8. Ans: A variable can not be a numerical value.\n",
        "\n",
        "Que 9. Ans: integer: int() Foating point : float() string: str()\n",
        "\n",
        "Que 10: Ans: 'I have eaten' + 99 + 'burritos' in this statement 99 is a numeric value first we have to make it string i.e. 'I have eaten' + str(99) + 'burritos' now this will work"
      ],
      "metadata": {
        "id": "KnvTPlv_B27O"
      }
    }
  ]
}