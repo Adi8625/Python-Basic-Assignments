{
 "cells": [
  {
   "cell_type": "markdown",
   "metadata": {},
   "source": [
    "Q1.\n",
    "Ans: True and False are the 2 values of boolean data types\n",
    "    and gennerally it is used for identifiying the truth value of variable"
   ]
  },
  {
   "cell_type": "markdown",
   "metadata": {},
   "source": [
    "Q2.\n",
    "Ans:\"and\" \"or\" \"not\" are three boolean operator"
   ]
  },
  {
   "cell_type": "markdown",
   "metadata": {},
   "source": [
    "Q3.\n",
    "Ans:\n",
    "AND Truth Table\n",
    "    x\t    and\ty\t    Returns\n",
    "    True\tand\tTrue\tTrue\n",
    "    True\tand\tFalse\tFalse\n",
    "    False\tand\tTrue\tFalse\n",
    "    False\tand\tFalse\tFalse\n",
    "OR Truth Table\n",
    "    x\t    or\ty\t        Returns\n",
    "    True\tor\tTrue\tTrue\n",
    "    True\tor\tFalse\tTrue\n",
    "    False\tor\tTrue\tTrue\n",
    "    False\tor\tFalse\tFalse\n",
    "NOT Truth Table\n",
    "    not\tx\t    Returns\n",
    "    not\tTrue\tFalse\n",
    "    not\tFalse\tTrue\n"
   ]
  },
  {
   "cell_type": "markdown",
   "metadata": {},
   "source": [
    "Q4.\n",
    "Ans:\n",
    "Condition                                           Return\n",
    "(5>4) and (3==4)                                    False\n",
    "not(5>4)                                            False\n",
    "(5>4) or (3==5)                                     True\n",
    "not((5>4) or (3==5))                                False\n",
    "(True and True) and (True == False)                 False\n",
    "(not False) or (not True)                           True"
   ]
  },
  {
   "cell_type": "markdown",
   "metadata": {},
   "source": [
    "Q5.\n",
    "Ans:\n",
    "\">\"     Greater than\n",
    "\"<\"     Less than\n",
    "\"==\"    Equal to\n",
    "\"!=\"    Not equal to \n",
    "\">=\"    Greater than or equal to\n",
    "\"<=\"    Less than or equal to"
   ]
  },
  {
   "cell_type": "markdown",
   "metadata": {},
   "source": [
    "Q6.\n",
    "Ans:\n",
    "The “=” is an assignment operator is used to assign the value on the right to the variable on the left.\n",
    "\n",
    "For example:\n",
    "\n",
    "a = 10\n",
    "b = 20\n",
    "ch = 'y'\n",
    "\n",
    "The ‘==’ operator checks whether the two given operands are equal or not. If so, it returns true. Otherwise it returns false.\n",
    "\n",
    "For example:\n",
    "\n",
    "5==5\n",
    "\n",
    "This will return true."
   ]
  },
  {
   "cell_type": "markdown",
   "metadata": {},
   "source": [
    "Q7.\n",
    "Ans:\n",
    "spam = 0\n",
    "if spam == 10: #start of block 1\n",
    "    print('eggs')\n",
    "    if spam > 5:    #start of block 2 inside block 1\n",
    "        print('bacon')\n",
    "    else:           #start of block 3 inside block 1\n",
    "        print('ham')\n",
    "    print('spam')   \n",
    "print('spam')"
   ]
  },
  {
   "cell_type": "code",
   "execution_count": null,
   "metadata": {},
   "outputs": [],
   "source": [
    "spam = int(input(\"Enter any Number\"))\n",
    "if spam == 1:\n",
    "    print('Hello')\n",
    "elif spam == 2:\n",
    "    print ('Howdy')\n",
    "else:\n",
    "    print('Geetings!')\n",
    "    "
   ]
  },
  {
   "cell_type": "markdown",
   "metadata": {},
   "source": [
    "Q9.\n",
    "Ans:\n",
    "Ctrl + C"
   ]
  },
  {
   "cell_type": "markdown",
   "metadata": {},
   "source": [
    "Q10.\n",
    "Ans:\n",
    "Break: It eliminates the execution of remaining iteration of loop\n",
    "Continue: It will terminate only the current iteration of loop."
   ]
  },
  {
   "cell_type": "markdown",
   "metadata": {},
   "source": [
    "Q11.\n",
    "Ans:\n",
    "range(10)\n",
    "        It will iterate from 0 to 9\n",
    "range(0,10)\n",
    "        It will start from 0 and ends at (10-1) i.e. again 9\n",
    "range(0,10,1)\n",
    "        It will start from 0 ends at 10 excluding 10 with the step of 1"
   ]
  },
  {
   "cell_type": "code",
   "execution_count": null,
   "metadata": {},
   "outputs": [],
   "source": [
    "#12 ans \n",
    "#Generation of number 1 to 10 using for loop\n",
    "for i in range(1,11):\n",
    "    print(i)"
   ]
  },
  {
   "cell_type": "code",
   "execution_count": null,
   "metadata": {},
   "outputs": [],
   "source": [
    "#12 ans \n",
    "#Generation of number 1 to 10 using while loop\n",
    "i = 1\n",
    "while i < 11:\n",
    "    print(i)\n",
    "    i = i+1"
   ]
  },
  {
   "cell_type": "markdown",
   "metadata": {},
   "source": [
    "Q13.\n",
    "Ans:\n",
    "    import spam\n",
    "    spam.bacon()"
   ]
  }
 ],
 "metadata": {
  "interpreter": {
   "hash": "67e18ab183ec7dfd5b51e43bc440810b5fe3c9180b39c66d8dac35da1371c04d"
  },
  "kernelspec": {
   "display_name": "Python 3.9.6 64-bit",
   "language": "python",
   "name": "python3"
  },
  "language_info": {
   "codemirror_mode": {
    "name": "ipython",
    "version": 3
   },
   "file_extension": ".py",
   "mimetype": "text/x-python",
   "name": "python",
   "nbconvert_exporter": "python",
   "pygments_lexer": "ipython3",
   "version": "3.9.6"
  },
  "orig_nbformat": 4
 },
 "nbformat": 4,
 "nbformat_minor": 2
}
